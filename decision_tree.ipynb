{
 "cells": [
  {
   "cell_type": "code",
   "execution_count": 6,
   "metadata": {},
   "outputs": [],
   "source": [
    "from __future__ import print_function\n",
    "\n",
    "import numpy as np\n",
    "\n",
    "from sklearn.datasets import make_classification\n",
    "from sklearn.tree import DecisionTreeClassifier, export_graphviz\n",
    "from sklearn.model_selection import cross_val_score"
   ]
  },
  {
   "cell_type": "code",
   "execution_count": 7,
   "metadata": {},
   "outputs": [],
   "source": [
    "# For reproducibility\n",
    "np.random.seed(1000)\n",
    "nb_samples = 500\n",
    "\n",
    "# Set a folder to store the graph in\n",
    "graph_folder = ''"
   ]
  },
  {
   "cell_type": "code",
   "execution_count": 11,
   "metadata": {},
   "outputs": [
    {
     "name": "stdout",
     "output_type": "stream",
     "text": [
      "Decision tree score: 0.784\n"
     ]
    }
   ],
   "source": [
    "if __name__ == '__main__':\n",
    "    # Create dataset\n",
    "    X, Y = make_classification(n_samples=nb_samples, n_features=3, n_informative=3, n_redundant=0, n_classes=3,\n",
    "                               n_clusters_per_class=1)\n",
    "\n",
    "    # Create a Decision tree classifier\n",
    "    dt = DecisionTreeClassifier()\n",
    "    dt_scores = cross_val_score(dt, X, Y, scoring='accuracy', cv=10)\n",
    "    print('Decision tree score: %.3f' % dt_scores.mean())\n",
    "\n",
    "    # Save in Graphviz format\n",
    "    dt.fit(X, Y)\n",
    "    \n",
    "    with open('dt.dot', 'w') as df:\n",
    "        df = export_graphviz(dt, out_file=df,\n",
    "                             feature_names=['A', 'B', 'C'],\n",
    "                             class_names=['C1', 'C2', 'C3'])"
   ]
  },
  {
   "cell_type": "code",
   "execution_count": null,
   "metadata": {},
   "outputs": [],
   "source": []
  }
 ],
 "metadata": {
  "kernelspec": {
   "display_name": "Python 3",
   "language": "python",
   "name": "python3"
  },
  "language_info": {
   "codemirror_mode": {
    "name": "ipython",
    "version": 3
   },
   "file_extension": ".py",
   "mimetype": "text/x-python",
   "name": "python",
   "nbconvert_exporter": "python",
   "pygments_lexer": "ipython3",
   "version": "3.7.6"
  }
 },
 "nbformat": 4,
 "nbformat_minor": 4
}
