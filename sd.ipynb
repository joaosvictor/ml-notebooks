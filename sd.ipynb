{
 "cells": [
  {
   "cell_type": "code",
   "execution_count": 2,
   "metadata": {},
   "outputs": [],
   "source": [
    "# https://www.mathsisfun.com/data/standard-deviation-formulas.html\n",
    "import math"
   ]
  },
  {
   "cell_type": "code",
   "execution_count": 3,
   "metadata": {},
   "outputs": [
    {
     "name": "stdout",
     "output_type": "stream",
     "text": [
      "4 5 6 7\n",
      "1.118033988749895\n"
     ]
    }
   ],
   "source": [
    "\n",
    "def sd():\n",
    "    # get user input\n",
    "    inp = input()\n",
    "    # put inputs in a list\n",
    "    inp_list = inp.split()\n",
    "    #print(inp_list)\n",
    "\n",
    "    # convert each item to int type\n",
    "    for i in range(len(inp_list)):\n",
    "        inp_list[i] = int(inp_list[i])\n",
    "    \n",
    "    # calculate mean\n",
    "    length = len(inp_list) \n",
    "    mean = sum(inp_list) / length\n",
    "\n",
    "    # var\n",
    "    \n",
    "    # subtract the mean from the analized numbers \n",
    "    var = [x - mean for x in inp_list]\n",
    "    # sometimes the result will be negative, so, the abs() will make the role of convert it to positive\n",
    "    var_abs = [abs(y) for y in var]\n",
    "    #print(str(var_abs))\n",
    "    #var_squares = list(map(lambda z:pow(z,2),var_abs))\n",
    "    \n",
    "    # here we create a new list where the abs() values will be squared\n",
    "    var_square = [n**2 for n in var_abs]\n",
    "    #print(var_squares)\n",
    "    \n",
    "    var_finished = sum(var_square) / length \n",
    "    \n",
    "    # sd\n",
    "    sd = math.sqrt(var_finished)\n",
    "    print(sd)\n",
    "    '''\n",
    "    for j in range(length):\n",
    "        var = inp_list[j] - mean\n",
    "        var_finished = abs(var)**2\n",
    "        new = [[x] for x in var_finished]\n",
    "        print(sum(new))\n",
    "    '''\n",
    "sd()"
   ]
  }
 ],
 "metadata": {
  "kernelspec": {
   "display_name": "Python 3",
   "language": "python",
   "name": "python3"
  },
  "language_info": {
   "codemirror_mode": {
    "name": "ipython",
    "version": 3
   },
   "file_extension": ".py",
   "mimetype": "text/x-python",
   "name": "python",
   "nbconvert_exporter": "python",
   "pygments_lexer": "ipython3",
   "version": "3.7.3"
  }
 },
 "nbformat": 4,
 "nbformat_minor": 4
}
